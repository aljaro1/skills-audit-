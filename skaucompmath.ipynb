{
 "cells": [
  {
   "cell_type": "code",
   "execution_count": null,
   "metadata": {},
   "outputs": [],
   "source": [
    "import matplotlib.pyplot as plt\n",
    "import numpy as np\n",
    "\n",
    "x = np.linspace(-2 * np.pi, 2 * np.pi, 1000)\n",
    "y = np.exp(-x) * np.sin(2 * x + np.pi/3)\n",
    "\n",
    "plt.plot(x, y, 'm-', linewidth=2, label='e^(-x)sin(2x+π/3)')\n",
    "plt.xlabel('x')\n",
    "plt.ylabel('y')\n",
    "plt.title('Plot of e^(-x)sin(2x+π/3)')\n",
    "plt.legend()\n",
    "\n",
    "plt.show()"
   ]
  }
 ],
 "metadata": {
  "language_info": {
   "name": "python"
  },
  "orig_nbformat": 4
 },
 "nbformat": 4,
 "nbformat_minor": 2
}
